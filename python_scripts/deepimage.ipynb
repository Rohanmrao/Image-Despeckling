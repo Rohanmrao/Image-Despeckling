{
 "cells": [
  {
   "cell_type": "code",
   "execution_count": 79,
   "metadata": {},
   "outputs": [],
   "source": [
    "#!/usr/bin/env/ python3"
   ]
  },
  {
   "cell_type": "code",
   "execution_count": 80,
   "metadata": {},
   "outputs": [],
   "source": [
    "import numpy as np \n",
    "import pandas as pd\n",
    "import tensorflow as tf\n",
    "from keras.models import Sequential\n",
    "from keras.layers import Conv2D, Flatten, Dense\n",
    "import matplotlib.pyplot as plt\n",
    "from sklearn.model_selection import train_test_split\n",
    "import os\n",
    "import cv2\n",
    "\n",
    "#my scripts\n",
    "from img_load import read_images"
   ]
  },
  {
   "cell_type": "code",
   "execution_count": 81,
   "metadata": {},
   "outputs": [
    {
     "data": {
      "text/html": [
       "<div>\n",
       "<style scoped>\n",
       "    .dataframe tbody tr th:only-of-type {\n",
       "        vertical-align: middle;\n",
       "    }\n",
       "\n",
       "    .dataframe tbody tr th {\n",
       "        vertical-align: top;\n",
       "    }\n",
       "\n",
       "    .dataframe thead th {\n",
       "        text-align: right;\n",
       "    }\n",
       "</style>\n",
       "<table border=\"1\" class=\"dataframe\">\n",
       "  <thead>\n",
       "    <tr style=\"text-align: right;\">\n",
       "      <th></th>\n",
       "      <th>No</th>\n",
       "      <th>clean_entropy</th>\n",
       "      <th>noisy_entropy</th>\n",
       "      <th>Difference</th>\n",
       "    </tr>\n",
       "  </thead>\n",
       "  <tbody>\n",
       "    <tr>\n",
       "      <th>0</th>\n",
       "      <td>1</td>\n",
       "      <td>7.540</td>\n",
       "      <td>7.578</td>\n",
       "      <td>0.037</td>\n",
       "    </tr>\n",
       "    <tr>\n",
       "      <th>1</th>\n",
       "      <td>2</td>\n",
       "      <td>7.471</td>\n",
       "      <td>7.501</td>\n",
       "      <td>0.029</td>\n",
       "    </tr>\n",
       "    <tr>\n",
       "      <th>2</th>\n",
       "      <td>3</td>\n",
       "      <td>7.602</td>\n",
       "      <td>7.862</td>\n",
       "      <td>0.260</td>\n",
       "    </tr>\n",
       "    <tr>\n",
       "      <th>3</th>\n",
       "      <td>4</td>\n",
       "      <td>6.876</td>\n",
       "      <td>7.152</td>\n",
       "      <td>0.276</td>\n",
       "    </tr>\n",
       "    <tr>\n",
       "      <th>4</th>\n",
       "      <td>5</td>\n",
       "      <td>6.394</td>\n",
       "      <td>6.649</td>\n",
       "      <td>0.255</td>\n",
       "    </tr>\n",
       "  </tbody>\n",
       "</table>\n",
       "</div>"
      ],
      "text/plain": [
       "   No  clean_entropy  noisy_entropy  Difference\n",
       "0   1          7.540          7.578       0.037\n",
       "1   2          7.471          7.501       0.029\n",
       "2   3          7.602          7.862       0.260\n",
       "3   4          6.876          7.152       0.276\n",
       "4   5          6.394          6.649       0.255"
      ]
     },
     "execution_count": 81,
     "metadata": {},
     "output_type": "execute_result"
    }
   ],
   "source": [
    "dataset = pd.read_excel(\"/home/rohan/Desktop/dip/Image-Despeckling/spreadsheets/output_data2.xlsx\")\n",
    "dataset.head()"
   ]
  },
  {
   "cell_type": "code",
   "execution_count": 82,
   "metadata": {},
   "outputs": [
    {
     "name": "stdout",
     "output_type": "stream",
     "text": [
      "<class 'pandas.core.series.Series'>\n",
      "<class 'pandas.core.series.Series'>\n",
      "<class 'list'>\n",
      "<class 'list'>\n"
     ]
    }
   ],
   "source": [
    "speckled_images_path = \"/home/rohan/Desktop/dip/Image-Despeckling/New_images/noisy/\"\n",
    "clean_images_path = \"/home/rohan/Desktop/dip/Image-Despeckling/New_images/clean_rename/\"\n",
    "\n",
    "noisy_entropies = dataset['noisy_entropy']\n",
    "entropy_differences = dataset['Difference']\n",
    "\n",
    "print(type(noisy_entropies))\n",
    "print(type(entropy_differences))\n",
    "\n",
    "noisy_entropies = pd.Series.tolist(noisy_entropies) #pd outputs are in series list format, hence it needs a conversion\n",
    "entropy_differences = pd.Series.tolist(entropy_differences)\n",
    "\n",
    "print(type(noisy_entropies))\n",
    "print(type(entropy_differences))\n"
   ]
  },
  {
   "cell_type": "code",
   "execution_count": 83,
   "metadata": {},
   "outputs": [
    {
     "ename": "AttributeError",
     "evalue": "module 'img_load' has no attribute 'read_images'",
     "output_type": "error",
     "traceback": [
      "\u001b[0;31m---------------------------------------------------------------------------\u001b[0m",
      "\u001b[0;31mAttributeError\u001b[0m                            Traceback (most recent call last)",
      "Cell \u001b[0;32mIn[83], line 2\u001b[0m\n\u001b[1;32m      1\u001b[0m target_img_size \u001b[39m=\u001b[39m (\u001b[39m256\u001b[39m,\u001b[39m256\u001b[39m)\n\u001b[0;32m----> 2\u001b[0m speckled_images, clean_images \u001b[39m=\u001b[39m img_load\u001b[39m.\u001b[39;49mread_images(speckled_images_path,clean_images_path,target_img_size)\n",
      "\u001b[0;31mAttributeError\u001b[0m: module 'img_load' has no attribute 'read_images'"
     ]
    }
   ],
   "source": [
    "target_img_size = (256,256)\n",
    "speckled_images, clean_images = img_load.read_images(speckled_images_path,clean_images_path,target_img_size)"
   ]
  },
  {
   "cell_type": "code",
   "execution_count": null,
   "metadata": {},
   "outputs": [],
   "source": []
  }
 ],
 "metadata": {
  "kernelspec": {
   "display_name": "Python 3",
   "language": "python",
   "name": "python3"
  },
  "language_info": {
   "codemirror_mode": {
    "name": "ipython",
    "version": 3
   },
   "file_extension": ".py",
   "mimetype": "text/x-python",
   "name": "python",
   "nbconvert_exporter": "python",
   "pygments_lexer": "ipython3",
   "version": "3.8.10"
  },
  "orig_nbformat": 4
 },
 "nbformat": 4,
 "nbformat_minor": 2
}
